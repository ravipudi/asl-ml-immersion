{
 "cells": [
  {
   "cell_type": "markdown",
   "metadata": {
    "tags": []
   },
   "source": [
    "# Continuous Training with Kubeflow Pipeline and Vertex AI"
   ]
  },
  {
   "cell_type": "markdown",
   "metadata": {},
   "source": [
    "**Learning Objectives:**\n",
    "1. Learn how to use KF pre-built components\n",
    "1. Learn how to build a KF pipeline with these components\n",
    "1. Learn how to compile, upload, and run a KF pipeline\n",
    "\n",
    "\n",
    "In this lab, you will build, deploy, and run a KFP pipeline that orchestrates the **Vertex AI** services to train, tune, and deploy a **scikit-learn** model using the Google pre-built components."
   ]
  },
  {
   "cell_type": "markdown",
   "metadata": {},
   "source": [
    "## Setup"
   ]
  },
  {
   "cell_type": "code",
   "execution_count": 1,
   "metadata": {},
   "outputs": [],
   "source": [
    "from datetime import datetime\n",
    "\n",
    "from google.cloud import aiplatform"
   ]
  },
  {
   "cell_type": "code",
   "execution_count": 2,
   "metadata": {},
   "outputs": [],
   "source": [
    "REGION = \"us-central1\"\n",
    "PROJECT_ID = !(gcloud config get-value project)\n",
    "PROJECT_ID = PROJECT_ID[0]"
   ]
  },
  {
   "cell_type": "code",
   "execution_count": 3,
   "metadata": {
    "tags": []
   },
   "outputs": [
    {
     "name": "stdout",
     "output_type": "stream",
     "text": [
      "env: PATH=/home/jupyter/.local/bin:/usr/local/cuda/bin:/opt/conda/bin:/opt/conda/condabin:/usr/local/bin:/usr/bin:/bin:/usr/local/games:/usr/games\n"
     ]
    }
   ],
   "source": [
    "# Set `PATH` to include the directory containing KFP CLI\n",
    "PATH = %env PATH\n",
    "%env PATH=/home/jupyter/.local/bin:{PATH}"
   ]
  },
  {
   "cell_type": "markdown",
   "metadata": {},
   "source": [
    "## Understanding the pipeline design\n"
   ]
  },
  {
   "cell_type": "markdown",
   "metadata": {},
   "source": [
    "The workflow implemented by the pipeline is defined using a Python based Domain Specific Language (DSL). The pipeline's DSL is in the `pipeline_vertex/pipeline_prebuilt.py` file that we will generate below.\n",
    "\n",
    "The pipeline's DSL has been designed to avoid hardcoding any environment specific settings like file paths or connection strings. These settings are provided to the pipeline code through a set of environment variables.\n"
   ]
  },
  {
   "cell_type": "markdown",
   "metadata": {},
   "source": [
    "### Build the trainer image"
   ]
  },
  {
   "cell_type": "markdown",
   "metadata": {},
   "source": [
    "The training step in the pipeline will require a custom training container. The custom training image is defined in `trainer_image_vertex/Dockerfile`."
   ]
  },
  {
   "cell_type": "code",
   "execution_count": 4,
   "metadata": {},
   "outputs": [
    {
     "name": "stdout",
     "output_type": "stream",
     "text": [
      "FROM gcr.io/deeplearning-platform-release/base-cpu\n",
      "RUN pip install -U fire cloudml-hypertune scikit-learn==0.20.4 pandas==0.24.2\n",
      "WORKDIR /app\n",
      "COPY train.py .\n",
      "\n",
      "ENTRYPOINT [\"python\", \"train.py\"]\n"
     ]
    }
   ],
   "source": [
    "!cat trainer_image_vertex/Dockerfile"
   ]
  },
  {
   "cell_type": "markdown",
   "metadata": {},
   "source": [
    "Let's now build and push this trainer container to the container registry:"
   ]
  },
  {
   "cell_type": "code",
   "execution_count": 5,
   "metadata": {},
   "outputs": [
    {
     "data": {
      "text/plain": [
       "'gcr.io/qwiklabs-asl-03-2de90311f4ec/trainer_image_covertype_vertex:latest'"
      ]
     },
     "execution_count": 5,
     "metadata": {},
     "output_type": "execute_result"
    }
   ],
   "source": [
    "IMAGE_NAME = \"trainer_image_covertype_vertex\"\n",
    "TAG = \"latest\"\n",
    "TRAINING_CONTAINER_IMAGE_URI = f\"gcr.io/{PROJECT_ID}/{IMAGE_NAME}:{TAG}\"\n",
    "TRAINING_CONTAINER_IMAGE_URI"
   ]
  },
  {
   "cell_type": "code",
   "execution_count": 6,
   "metadata": {},
   "outputs": [
    {
     "name": "stdout",
     "output_type": "stream",
     "text": [
      "Creating temporary tarball archive of 4 file(s) totalling 6.7 KiB before compression.\n",
      "Uploading tarball of [trainer_image_vertex] to [gs://qwiklabs-asl-03-2de90311f4ec_cloudbuild/source/1690437581.011036-70d080e3410c4aff931a4882673c132c.tgz]\n",
      "Created [https://cloudbuild.googleapis.com/v1/projects/qwiklabs-asl-03-2de90311f4ec/locations/global/builds/6544fa79-ae81-49e0-adff-e3085c65a4ed].\n",
      "Logs are available at [ https://console.cloud.google.com/cloud-build/builds/6544fa79-ae81-49e0-adff-e3085c65a4ed?project=94255171416 ].\n",
      "----------------------------- REMOTE BUILD OUTPUT ------------------------------\n",
      "starting build \"6544fa79-ae81-49e0-adff-e3085c65a4ed\"\n",
      "\n",
      "FETCHSOURCE\n",
      "Fetching storage object: gs://qwiklabs-asl-03-2de90311f4ec_cloudbuild/source/1690437581.011036-70d080e3410c4aff931a4882673c132c.tgz#1690437581251069\n",
      "Copying gs://qwiklabs-asl-03-2de90311f4ec_cloudbuild/source/1690437581.011036-70d080e3410c4aff931a4882673c132c.tgz#1690437581251069...\n",
      "/ [1 files][  1.8 KiB/  1.8 KiB]                                                \n",
      "Operation completed over 1 objects/1.8 KiB.\n",
      "BUILD\n",
      "Already have image (with digest): gcr.io/cloud-builders/docker\n",
      "Sending build context to Docker daemon  11.78kB\n",
      "Step 1/5 : FROM gcr.io/deeplearning-platform-release/base-cpu\n",
      "latest: Pulling from deeplearning-platform-release/base-cpu\n",
      "56e0351b9876: Already exists\n",
      "4805448d2887: Pulling fs layer\n",
      "6010ee0be6fa: Pulling fs layer\n",
      "4f4fb700ef54: Pulling fs layer\n",
      "e2338d0c32f5: Pulling fs layer\n",
      "f44de40d5a81: Pulling fs layer\n",
      "076280f960a0: Pulling fs layer\n",
      "0735612d0a87: Pulling fs layer\n",
      "cd1fda9a7709: Pulling fs layer\n",
      "2cace1757ac5: Pulling fs layer\n",
      "9c90296fbff7: Pulling fs layer\n",
      "60fb050d3256: Pulling fs layer\n",
      "49eac6151c74: Pulling fs layer\n",
      "23ce0ff19339: Pulling fs layer\n",
      "2e6deadecd70: Pulling fs layer\n",
      "74755647fd11: Pulling fs layer\n",
      "bd19886240a6: Pulling fs layer\n",
      "057629cf5e3d: Pulling fs layer\n",
      "ceeeb7fc204d: Pulling fs layer\n",
      "66bc44577f21: Pulling fs layer\n",
      "637548efc9d8: Pulling fs layer\n",
      "4b55ed3e4d80: Pulling fs layer\n",
      "0ec5ac20ec04: Pulling fs layer\n",
      "e2338d0c32f5: Waiting\n",
      "f44de40d5a81: Waiting\n",
      "076280f960a0: Waiting\n",
      "0735612d0a87: Waiting\n",
      "cd1fda9a7709: Waiting\n",
      "2cace1757ac5: Waiting\n",
      "9c90296fbff7: Waiting\n",
      "60fb050d3256: Waiting\n",
      "49eac6151c74: Waiting\n",
      "23ce0ff19339: Waiting\n",
      "2e6deadecd70: Waiting\n",
      "74755647fd11: Waiting\n",
      "bd19886240a6: Waiting\n",
      "057629cf5e3d: Waiting\n",
      "ceeeb7fc204d: Waiting\n",
      "66bc44577f21: Waiting\n",
      "637548efc9d8: Waiting\n",
      "4b55ed3e4d80: Waiting\n",
      "0ec5ac20ec04: Waiting\n",
      "4f4fb700ef54: Verifying Checksum\n",
      "4f4fb700ef54: Download complete\n",
      "6010ee0be6fa: Verifying Checksum\n",
      "6010ee0be6fa: Download complete\n",
      "4805448d2887: Verifying Checksum\n",
      "4805448d2887: Download complete\n",
      "076280f960a0: Verifying Checksum\n",
      "076280f960a0: Download complete\n",
      "0735612d0a87: Verifying Checksum\n",
      "0735612d0a87: Download complete\n",
      "cd1fda9a7709: Verifying Checksum\n",
      "cd1fda9a7709: Download complete\n",
      "2cace1757ac5: Verifying Checksum\n",
      "2cace1757ac5: Download complete\n",
      "f44de40d5a81: Verifying Checksum\n",
      "f44de40d5a81: Download complete\n",
      "60fb050d3256: Verifying Checksum\n",
      "60fb050d3256: Download complete\n",
      "49eac6151c74: Verifying Checksum\n",
      "49eac6151c74: Download complete\n",
      "23ce0ff19339: Verifying Checksum\n",
      "23ce0ff19339: Download complete\n",
      "2e6deadecd70: Verifying Checksum\n",
      "2e6deadecd70: Download complete\n",
      "74755647fd11: Verifying Checksum\n",
      "74755647fd11: Download complete\n",
      "bd19886240a6: Verifying Checksum\n",
      "bd19886240a6: Download complete\n",
      "057629cf5e3d: Verifying Checksum\n",
      "057629cf5e3d: Download complete\n",
      "ceeeb7fc204d: Verifying Checksum\n",
      "ceeeb7fc204d: Download complete\n",
      "9c90296fbff7: Verifying Checksum\n",
      "9c90296fbff7: Download complete\n",
      "66bc44577f21: Verifying Checksum\n",
      "66bc44577f21: Download complete\n",
      "637548efc9d8: Verifying Checksum\n",
      "637548efc9d8: Download complete\n",
      "e2338d0c32f5: Verifying Checksum\n",
      "e2338d0c32f5: Download complete\n",
      "4805448d2887: Pull complete\n",
      "6010ee0be6fa: Pull complete\n",
      "4f4fb700ef54: Pull complete\n",
      "0ec5ac20ec04: Download complete\n",
      "4b55ed3e4d80: Verifying Checksum\n",
      "4b55ed3e4d80: Download complete\n",
      "e2338d0c32f5: Pull complete\n",
      "f44de40d5a81: Pull complete\n",
      "076280f960a0: Pull complete\n",
      "0735612d0a87: Pull complete\n",
      "cd1fda9a7709: Pull complete\n",
      "2cace1757ac5: Pull complete\n",
      "9c90296fbff7: Pull complete\n",
      "60fb050d3256: Pull complete\n",
      "49eac6151c74: Pull complete\n",
      "23ce0ff19339: Pull complete\n",
      "2e6deadecd70: Pull complete\n",
      "74755647fd11: Pull complete\n",
      "bd19886240a6: Pull complete\n",
      "057629cf5e3d: Pull complete\n",
      "ceeeb7fc204d: Pull complete\n",
      "66bc44577f21: Pull complete\n",
      "637548efc9d8: Pull complete\n",
      "4b55ed3e4d80: Pull complete\n",
      "0ec5ac20ec04: Pull complete\n",
      "Digest: sha256:cac9f0c3e19cdac79a395ef2ea20db4e36b18e4135a66d02b84dec75f0a3995b\n",
      "Status: Downloaded newer image for gcr.io/deeplearning-platform-release/base-cpu:latest\n",
      " ---> 584d1bb363f5\n",
      "Step 2/5 : RUN pip install -U fire cloudml-hypertune scikit-learn==0.20.4 pandas==0.24.2\n",
      " ---> Running in 8c3d908e3a4f\n",
      "Collecting fire\n",
      "  Downloading fire-0.5.0.tar.gz (88 kB)\n",
      "     ━━━━━━━━━━━━━━━━━━━━━━━━━━━━━━━━━━━━━━━━ 88.3/88.3 kB 3.6 MB/s eta 0:00:00\n",
      "  Preparing metadata (setup.py): started\n",
      "  Preparing metadata (setup.py): finished with status 'done'\n",
      "Collecting cloudml-hypertune\n",
      "  Downloading cloudml-hypertune-0.1.0.dev6.tar.gz (3.2 kB)\n",
      "  Preparing metadata (setup.py): started\n",
      "  Preparing metadata (setup.py): finished with status 'done'\n",
      "Collecting scikit-learn==0.20.4\n",
      "  Downloading scikit_learn-0.20.4-cp37-cp37m-manylinux1_x86_64.whl (5.4 MB)\n",
      "     ━━━━━━━━━━━━━━━━━━━━━━━━━━━━━━━━━━━━━━━━ 5.4/5.4 MB 60.8 MB/s eta 0:00:00\n",
      "Collecting pandas==0.24.2\n",
      "  Downloading pandas-0.24.2-cp37-cp37m-manylinux1_x86_64.whl (10.1 MB)\n",
      "     ━━━━━━━━━━━━━━━━━━━━━━━━━━━━━━━━━━━━━━━━ 10.1/10.1 MB 90.0 MB/s eta 0:00:00\n",
      "Requirement already satisfied: numpy>=1.8.2 in /opt/conda/lib/python3.7/site-packages (from scikit-learn==0.20.4) (1.21.6)\n",
      "Requirement already satisfied: scipy>=0.13.3 in /opt/conda/lib/python3.7/site-packages (from scikit-learn==0.20.4) (1.7.3)\n",
      "Requirement already satisfied: python-dateutil>=2.5.0 in /opt/conda/lib/python3.7/site-packages (from pandas==0.24.2) (2.8.2)\n",
      "Requirement already satisfied: pytz>=2011k in /opt/conda/lib/python3.7/site-packages (from pandas==0.24.2) (2023.3)\n",
      "Requirement already satisfied: six in /opt/conda/lib/python3.7/site-packages (from fire) (1.16.0)\n",
      "Collecting termcolor (from fire)\n",
      "  Downloading termcolor-2.3.0-py3-none-any.whl (6.9 kB)\n",
      "Building wheels for collected packages: fire, cloudml-hypertune\n",
      "  Building wheel for fire (setup.py): started\n",
      "  Building wheel for fire (setup.py): finished with status 'done'\n",
      "  Created wheel for fire: filename=fire-0.5.0-py2.py3-none-any.whl size=116932 sha256=410ea511e34f5b430920399d9d8241a514dd6e2c6e67b9933a201d0d2e1d372c\n",
      "  Stored in directory: /root/.cache/pip/wheels/20/97/e1/dd2c472bebcdcaa85fdc07d0f19020299f1c86773028860c53\n",
      "  Building wheel for cloudml-hypertune (setup.py): started\n",
      "  Building wheel for cloudml-hypertune (setup.py): finished with status 'done'\n",
      "  Created wheel for cloudml-hypertune: filename=cloudml_hypertune-0.1.0.dev6-py2.py3-none-any.whl size=3973 sha256=502a2050bc72373d2351f6c5c76877dd33591e3eaee14d65d5044725f393da7e\n",
      "  Stored in directory: /root/.cache/pip/wheels/a7/ff/87/e7bed0c2741fe219b3d6da67c2431d7f7fedb183032e00f81e\n",
      "Successfully built fire cloudml-hypertune\n",
      "Installing collected packages: cloudml-hypertune, termcolor, scikit-learn, pandas, fire\n",
      "  Attempting uninstall: scikit-learn\n",
      "    Found existing installation: scikit-learn 1.0.2\n",
      "    Uninstalling scikit-learn-1.0.2:\n",
      "      Successfully uninstalled scikit-learn-1.0.2\n",
      "  Attempting uninstall: pandas\n",
      "    Found existing installation: pandas 1.3.5\n",
      "    Uninstalling pandas-1.3.5:\n",
      "      Successfully uninstalled pandas-1.3.5\n",
      "\u001b[91mERROR: pip's dependency resolver does not currently take into account all the packages that are installed. This behaviour is the source of the following dependency conflicts.\n",
      "phik 0.12.3 requires pandas>=0.25.1, but you have pandas 0.24.2 which is incompatible.\n",
      "seaborn 0.12.2 requires pandas>=0.25, but you have pandas 0.24.2 which is incompatible.\n",
      "statsmodels 0.13.5 requires pandas>=0.25, but you have pandas 0.24.2 which is incompatible.\n",
      "visions 0.7.5 requires pandas>=0.25.3, but you have pandas 0.24.2 which is incompatible.\n",
      "ydata-profiling 4.2.0 requires pandas!=1.4.0,<2,>1.1, but you have pandas 0.24.2 which is incompatible.\n",
      "\u001b[0mSuccessfully installed cloudml-hypertune-0.1.0.dev6 fire-0.5.0 pandas-0.24.2 scikit-learn-0.20.4 termcolor-2.3.0\n",
      "\u001b[91mWARNING: Running pip as the 'root' user can result in broken permissions and conflicting behaviour with the system package manager. It is recommended to use a virtual environment instead: https://pip.pypa.io/warnings/venv\n",
      "\u001b[0mRemoving intermediate container 8c3d908e3a4f\n",
      " ---> 96c28edffd08\n",
      "Step 3/5 : WORKDIR /app\n",
      " ---> Running in 13c46170c6d6\n",
      "Removing intermediate container 13c46170c6d6\n",
      " ---> 63ed9e3d0a52\n",
      "Step 4/5 : COPY train.py .\n",
      " ---> ba4965029938\n",
      "Step 5/5 : ENTRYPOINT [\"python\", \"train.py\"]\n",
      " ---> Running in dd4788b3ab3f\n",
      "Removing intermediate container dd4788b3ab3f\n",
      " ---> 9635f00cfe9e\n",
      "Successfully built 9635f00cfe9e\n",
      "Successfully tagged gcr.io/qwiklabs-asl-03-2de90311f4ec/trainer_image_covertype_vertex:latest\n",
      "PUSH\n",
      "Pushing gcr.io/qwiklabs-asl-03-2de90311f4ec/trainer_image_covertype_vertex:latest\n",
      "The push refers to repository [gcr.io/qwiklabs-asl-03-2de90311f4ec/trainer_image_covertype_vertex]\n",
      "603d92283daa: Preparing\n",
      "2f1edbc591d0: Preparing\n",
      "33c1010ad5a4: Preparing\n",
      "6d8d8c0bc0c9: Preparing\n",
      "faf2c7881f6e: Preparing\n",
      "3a1279e9e180: Preparing\n",
      "74e7f2199704: Preparing\n",
      "137ec3936148: Preparing\n",
      "6dc2dc0ceda8: Preparing\n",
      "4e15aa2b0d93: Preparing\n",
      "6a9224648bb3: Preparing\n",
      "61d824b324cf: Preparing\n",
      "9abd177d62d4: Preparing\n",
      "5a26b52752f7: Preparing\n",
      "e1d00831a5f5: Preparing\n",
      "dd4157733cba: Preparing\n",
      "d62cb3f3ee3a: Preparing\n",
      "75612067b361: Preparing\n",
      "a957f356a963: Preparing\n",
      "240c1b858bf3: Preparing\n",
      "5f70bf18a086: Preparing\n",
      "8338899cb13a: Preparing\n",
      "0313db964f3f: Preparing\n",
      "5f70bf18a086: Preparing\n",
      "4fb340a451dc: Preparing\n",
      "e4ea0618e6f3: Preparing\n",
      "ec66d8cea54a: Preparing\n",
      "3a1279e9e180: Waiting\n",
      "74e7f2199704: Waiting\n",
      "137ec3936148: Waiting\n",
      "6dc2dc0ceda8: Waiting\n",
      "4e15aa2b0d93: Waiting\n",
      "6a9224648bb3: Waiting\n",
      "61d824b324cf: Waiting\n",
      "9abd177d62d4: Waiting\n",
      "5a26b52752f7: Waiting\n",
      "e1d00831a5f5: Waiting\n",
      "dd4157733cba: Waiting\n",
      "d62cb3f3ee3a: Waiting\n",
      "75612067b361: Waiting\n",
      "a957f356a963: Waiting\n",
      "240c1b858bf3: Waiting\n",
      "5f70bf18a086: Waiting\n",
      "8338899cb13a: Waiting\n",
      "0313db964f3f: Waiting\n",
      "4fb340a451dc: Waiting\n",
      "e4ea0618e6f3: Waiting\n",
      "ec66d8cea54a: Waiting\n",
      "6d8d8c0bc0c9: Layer already exists\n",
      "faf2c7881f6e: Layer already exists\n",
      "3a1279e9e180: Layer already exists\n",
      "74e7f2199704: Layer already exists\n",
      "137ec3936148: Layer already exists\n",
      "6dc2dc0ceda8: Layer already exists\n",
      "4e15aa2b0d93: Layer already exists\n",
      "61d824b324cf: Layer already exists\n",
      "6a9224648bb3: Layer already exists\n",
      "9abd177d62d4: Layer already exists\n",
      "5a26b52752f7: Layer already exists\n",
      "e1d00831a5f5: Layer already exists\n",
      "dd4157733cba: Layer already exists\n",
      "d62cb3f3ee3a: Layer already exists\n",
      "a957f356a963: Layer already exists\n",
      "75612067b361: Layer already exists\n",
      "240c1b858bf3: Layer already exists\n",
      "5f70bf18a086: Layer already exists\n",
      "8338899cb13a: Layer already exists\n",
      "0313db964f3f: Layer already exists\n",
      "4fb340a451dc: Layer already exists\n",
      "e4ea0618e6f3: Layer already exists\n",
      "ec66d8cea54a: Layer already exists\n",
      "2f1edbc591d0: Pushed\n",
      "603d92283daa: Pushed\n",
      "33c1010ad5a4: Pushed\n",
      "latest: digest: sha256:468b16292a41f0c7c10bf03cbfc7f1d2db06b0b10b6eea7f9f97396e184779c4 size: 5965\n",
      "DONE\n",
      "--------------------------------------------------------------------------------\n",
      "ID                                    CREATE_TIME                DURATION  SOURCE                                                                                                      IMAGES                                                                        STATUS\n",
      "6544fa79-ae81-49e0-adff-e3085c65a4ed  2023-07-27T05:59:41+00:00  3M8S      gs://qwiklabs-asl-03-2de90311f4ec_cloudbuild/source/1690437581.011036-70d080e3410c4aff931a4882673c132c.tgz  gcr.io/qwiklabs-asl-03-2de90311f4ec/trainer_image_covertype_vertex (+1 more)  SUCCESS\n"
     ]
    }
   ],
   "source": [
    "!gcloud builds submit --timeout 15m --tag $TRAINING_CONTAINER_IMAGE_URI trainer_image_vertex"
   ]
  },
  {
   "cell_type": "markdown",
   "metadata": {},
   "source": [
    "To match the ml framework version we use at training time while serving the model, we will have to supply the following serving container to the pipeline:"
   ]
  },
  {
   "cell_type": "code",
   "execution_count": 7,
   "metadata": {},
   "outputs": [],
   "source": [
    "SERVING_CONTAINER_IMAGE_URI = (\n",
    "    \"us-docker.pkg.dev/vertex-ai/prediction/sklearn-cpu.0-20:latest\"\n",
    ")"
   ]
  },
  {
   "cell_type": "markdown",
   "metadata": {},
   "source": [
    "**Note:** If you change the version of the training ml framework you'll have to supply a serving container with matching version (see [pre-built containers for prediction](https://cloud.google.com/vertex-ai/docs/predictions/pre-built-containers))."
   ]
  },
  {
   "cell_type": "markdown",
   "metadata": {},
   "source": [
    "## Building and deploying the pipeline"
   ]
  },
  {
   "cell_type": "markdown",
   "metadata": {},
   "source": [
    "Let us write the pipeline to disk:"
   ]
  },
  {
   "cell_type": "code",
   "execution_count": 8,
   "metadata": {},
   "outputs": [
    {
     "name": "stdout",
     "output_type": "stream",
     "text": [
      "Overwriting ./pipeline_vertex/pipeline_prebuilt.py\n"
     ]
    }
   ],
   "source": [
    "%%writefile ./pipeline_vertex/pipeline_prebuilt.py\n",
    "# Copyright 2021 Google LLC\n",
    "\n",
    "# Licensed under the Apache License, Version 2.0 (the \"License\"); you may not\n",
    "# use this file except in compliance with the License. You may obtain a copy of\n",
    "# the License at\n",
    "\n",
    "# https://www.apache.org/licenses/LICENSE-2.0\n",
    "\n",
    "# Unless required by applicable law or agreed to in writing, software\n",
    "# distributed under the License is distributed on an \"AS IS\"\n",
    "# BASIS, WITHOUT WARRANTIES OR CONDITIONS OF ANY KIND, either\n",
    "# express or implied. See the License for the specific language governing\n",
    "# permissions and limitations under the License.\n",
    "\n",
    "from kfp.v2.dsl import (Input, Artifact, component)\n",
    "\n",
    "@component(\n",
    "    base_image=\"gcr.io/ml-pipeline/google-cloud-pipeline-components:0.2.1\",\n",
    "    output_component_file=\"bq_export.yaml\",\n",
    ")\n",
    "def extract_bq_op(\n",
    "    bq_table: Input[Artifact],\n",
    "    destination_uri: str\n",
    "):\n",
    "\n",
    "    from google.cloud import bigquery\n",
    "    client = bigquery.Client(bq_table.metadata[\"projectId\"])\n",
    "\n",
    "    dataset_ref = bigquery.DatasetReference(bq_table.metadata[\"projectId\"], bq_table.metadata[\"datasetId\"])\n",
    "    table_ref = dataset_ref.table(bq_table.metadata[\"tableId\"])\n",
    "\n",
    "    extract_job = client.extract_table(\n",
    "        table_ref,\n",
    "        destination_uri,\n",
    "        # Location must match that of the source table.\n",
    "        location=\"US\",\n",
    "    )  # API request\n",
    "    extract_job.result()  # Waits for job to complete.\n",
    "\n",
    "    print(\n",
    "        \"Exported {}:{}.{} to {}\".format(\n",
    "            bq_table.metadata[\"projectId\"],\n",
    "            bq_table.metadata[\"datasetId\"],\n",
    "            bq_table.metadata[\"tableId\"],\n",
    "            destination_uri\n",
    "        )\n",
    "    )\n",
    "\n",
    "\n",
    "\"\"\"Kubeflow Covertype Pipeline.\"\"\"\n",
    "import os\n",
    "\n",
    "from google.cloud.aiplatform import hyperparameter_tuning as hpt\n",
    "from google_cloud_pipeline_components.aiplatform import (\n",
    "    EndpointCreateOp,\n",
    "    ModelDeployOp,\n",
    "    ModelUploadOp,\n",
    ")\n",
    "\n",
    "from google_cloud_pipeline_components.experimental.bigquery import (\n",
    "    BigqueryQueryJobOp,\n",
    ")\n",
    "\n",
    "from google_cloud_pipeline_components.experimental import (\n",
    "    hyperparameter_tuning_job,\n",
    ")\n",
    "from google_cloud_pipeline_components.experimental.custom_job import (\n",
    "    CustomTrainingJobOp,\n",
    ")\n",
    "\n",
    "from google.cloud import bigquery\n",
    "\n",
    "from kfp.v2 import dsl\n",
    "\n",
    "PIPELINE_ROOT = os.getenv(\"PIPELINE_ROOT\")\n",
    "PROJECT_ID = os.getenv(\"PROJECT_ID\")\n",
    "REGION = os.getenv(\"REGION\")\n",
    "\n",
    "TRAINING_CONTAINER_IMAGE_URI = os.getenv(\"TRAINING_CONTAINER_IMAGE_URI\")\n",
    "SERVING_CONTAINER_IMAGE_URI = os.getenv(\"SERVING_CONTAINER_IMAGE_URI\")\n",
    "SERVING_MACHINE_TYPE = os.getenv(\"SERVING_MACHINE_TYPE\", \"n1-standard-16\")\n",
    "\n",
    "TRAINING_FILE_PATH = os.getenv(\"TRAINING_FILE_PATH\")\n",
    "VALIDATION_FILE_PATH = os.getenv(\"VALIDATION_FILE_PATH\")\n",
    "\n",
    "MAX_TRIAL_COUNT = int(os.getenv(\"MAX_TRIAL_COUNT\", \"5\"))\n",
    "PARALLEL_TRIAL_COUNT = int(os.getenv(\"PARALLEL_TRIAL_COUNT\", \"5\"))\n",
    "THRESHOLD = float(os.getenv(\"THRESHOLD\", \"0.6\"))\n",
    "\n",
    "PIPELINE_NAME = os.getenv(\"PIPELINE_NAME\", \"covertype\")\n",
    "BASE_OUTPUT_DIR = os.getenv(\"BASE_OUTPUT_DIR\", PIPELINE_ROOT)\n",
    "MODEL_DISPLAY_NAME = os.getenv(\"MODEL_DISPLAY_NAME\", PIPELINE_NAME)\n",
    "\n",
    "@dsl.pipeline(\n",
    "    name=f\"{PIPELINE_NAME}-kfp-pipeline-full\",\n",
    "    description=\"Kubeflow pipeline that tunes, trains, and deploys on Vertex\",\n",
    "    pipeline_root=PIPELINE_ROOT,\n",
    ")\n",
    "def create_pipeline():\n",
    "\n",
    "    def construct_query(_mode, _split):        \n",
    "        query = f\"CREATE OR REPLACE TABLE `{PROJECT_ID}.covertype_dataset.{_mode}`\\\n",
    "        AS (SELECT * \\\n",
    "        FROM `covertype_dataset.covertype` AS cover \\\n",
    "        WHERE \\\n",
    "        MOD(ABS(FARM_FINGERPRINT(TO_JSON_STRING(cover))), 10) IN {_split})\"\n",
    "        return query\n",
    "\n",
    "    bq_train_split_task = BigqueryQueryJobOp(\n",
    "        project=PROJECT_ID,\n",
    "        location=\"US\",\n",
    "        query=construct_query(\"training\", \"(1, 2, 3, 4)\"),\n",
    "    )\n",
    "\n",
    "    bq_valid_split_task = BigqueryQueryJobOp(\n",
    "        project=PROJECT_ID,\n",
    "        location=\"US\",\n",
    "        query=construct_query(\"validation\", \"(8)\"),\n",
    "    )\n",
    "\n",
    "    train_extract = extract_bq_op(\n",
    "        bq_table=bq_train_split_task.outputs['destination_table'],\n",
    "        destination_uri=TRAINING_FILE_PATH)\n",
    "\n",
    "    valid_extract = extract_bq_op(\n",
    "        bq_table=bq_valid_split_task.outputs['destination_table'],\n",
    "        destination_uri=VALIDATION_FILE_PATH)\n",
    "\n",
    "    worker_pool_specs = [\n",
    "        {\n",
    "            \"machine_spec\": {\n",
    "                \"machine_type\": \"n1-standard-4\",\n",
    "                \"accelerator_type\": \"NVIDIA_TESLA_T4\",\n",
    "                \"accelerator_count\": 1,\n",
    "            },\n",
    "            \"replica_count\": 1,\n",
    "            \"container_spec\": {\n",
    "                \"image_uri\": TRAINING_CONTAINER_IMAGE_URI,\n",
    "                \"args\": [\n",
    "                    f\"--training_dataset_path={TRAINING_FILE_PATH}\",\n",
    "                    f\"--validation_dataset_path={VALIDATION_FILE_PATH}\",\n",
    "                    \"--hptune\",\n",
    "                ],\n",
    "            },\n",
    "        }\n",
    "    ]\n",
    "\n",
    "    metric_spec = hyperparameter_tuning_job.serialize_metrics(\n",
    "        {\"accuracy\": \"maximize\"}\n",
    "    )\n",
    "\n",
    "    parameter_spec = hyperparameter_tuning_job.serialize_parameters(\n",
    "        {\n",
    "            \"alpha\": hpt.DoubleParameterSpec(\n",
    "                min=1.0e-4, max=1.0e-1, scale=\"linear\"\n",
    "            ),\n",
    "            \"max_iter\": hpt.DiscreteParameterSpec(\n",
    "                values=[1, 2], scale=\"linear\"\n",
    "            ),\n",
    "        }\n",
    "    )\n",
    "\n",
    "    hp_tuning_task = hyperparameter_tuning_job.HyperparameterTuningJobRunOp(\n",
    "        display_name=f\"{PIPELINE_NAME}-kfp-tuning-job\",\n",
    "        project=PROJECT_ID,\n",
    "        location=REGION,\n",
    "        worker_pool_specs=worker_pool_specs,\n",
    "        study_spec_metrics=metric_spec,\n",
    "        study_spec_parameters=parameter_spec,\n",
    "        max_trial_count=MAX_TRIAL_COUNT,\n",
    "        parallel_trial_count=PARALLEL_TRIAL_COUNT,\n",
    "        base_output_directory=PIPELINE_ROOT,\n",
    "    ).after(train_extract, valid_extract)\n",
    "\n",
    "    trials_task = hyperparameter_tuning_job.GetTrialsOp(\n",
    "        gcp_resources=hp_tuning_task.outputs[\"gcp_resources\"]\n",
    "    )\n",
    "\n",
    "    best_hyperparameters_task = (\n",
    "        hyperparameter_tuning_job.GetBestHyperparametersOp(\n",
    "            trials=trials_task.output, study_spec_metrics=metric_spec\n",
    "        )\n",
    "    )\n",
    "\n",
    "    # Construct new worker_pool_specs and\n",
    "    # train new model based on best hyperparameters\n",
    "    worker_pool_specs_task = hyperparameter_tuning_job.GetWorkerPoolSpecsOp(\n",
    "        best_hyperparameters=best_hyperparameters_task.output,\n",
    "        worker_pool_specs=[\n",
    "            {\n",
    "                \"machine_spec\": {\"machine_type\": \"n1-standard-4\"},\n",
    "                \"replica_count\": 1,\n",
    "                \"container_spec\": {\n",
    "                    \"image_uri\": TRAINING_CONTAINER_IMAGE_URI,\n",
    "                    \"args\": [\n",
    "                        f\"--training_dataset_path={TRAINING_FILE_PATH}\",\n",
    "                        f\"--validation_dataset_path={VALIDATION_FILE_PATH}\",\n",
    "                        \"--nohptune\",\n",
    "                    ],\n",
    "                },\n",
    "            }\n",
    "        ],\n",
    "    )\n",
    "\n",
    "    training_task = CustomTrainingJobOp(\n",
    "        project=PROJECT_ID,\n",
    "        location=REGION,\n",
    "        display_name=f\"{PIPELINE_NAME}-kfp-training-job\",\n",
    "        worker_pool_specs=worker_pool_specs_task.output,\n",
    "        base_output_directory=BASE_OUTPUT_DIR,\n",
    "    )\n",
    "\n",
    "    model_upload_task = ModelUploadOp(\n",
    "        project=PROJECT_ID,\n",
    "        display_name=f\"{PIPELINE_NAME}-kfp-model-upload-job\",\n",
    "        artifact_uri=f\"{BASE_OUTPUT_DIR}/model\",\n",
    "        serving_container_image_uri=SERVING_CONTAINER_IMAGE_URI,\n",
    "    )\n",
    "    model_upload_task.after(training_task)\n",
    "\n",
    "    endpoint_create_task = EndpointCreateOp(\n",
    "        project=PROJECT_ID,\n",
    "        display_name=f\"{PIPELINE_NAME}-kfp-create-endpoint-job\",\n",
    "    )\n",
    "    endpoint_create_task.after(model_upload_task)\n",
    "\n",
    "    model_deploy_op = ModelDeployOp(  # pylint: disable=unused-variable\n",
    "        model=model_upload_task.outputs[\"model\"],\n",
    "        endpoint=endpoint_create_task.outputs[\"endpoint\"],\n",
    "        deployed_model_display_name=MODEL_DISPLAY_NAME,\n",
    "        dedicated_resources_machine_type=SERVING_MACHINE_TYPE,\n",
    "        dedicated_resources_min_replica_count=1,\n",
    "        dedicated_resources_max_replica_count=1,\n",
    "    )\n"
   ]
  },
  {
   "cell_type": "markdown",
   "metadata": {},
   "source": [
    "### Compile the pipeline"
   ]
  },
  {
   "cell_type": "markdown",
   "metadata": {},
   "source": [
    "Let stat by defining the environment variables that will be passed to the pipeline compiler:"
   ]
  },
  {
   "cell_type": "markdown",
   "metadata": {},
   "source": [
    "Let us make sure that the `ARTIFACT_STORE` has been created, and let us create it if not:"
   ]
  },
  {
   "cell_type": "code",
   "execution_count": 9,
   "metadata": {},
   "outputs": [
    {
     "name": "stdout",
     "output_type": "stream",
     "text": [
      "CommandException: \"mb\" command does not support \"file://\" URLs. Did you mean to use a gs:// URL?\n"
     ]
    }
   ],
   "source": [
    "!gsutil ls | grep ^{ARTIFACT_STORE}/$ || gsutil mb -l {REGION} {ARTIFACT_STORE}"
   ]
  },
  {
   "cell_type": "markdown",
   "metadata": {},
   "source": [
    "**Note:** In case the artifact store was not created and properly set before hand, you may need\n",
    "to run in **CloudShell** the following command to allow Vertex AI to access it:\n",
    "\n",
    "```\n",
    "PROJECT_ID=$(gcloud config get-value project)\n",
    "PROJECT_NUMBER=$(gcloud projects list --filter=\"name=$PROJECT_ID\" --format=\"value(PROJECT_NUMBER)\")\n",
    "gcloud projects add-iam-policy-binding $PROJECT_ID \\\n",
    "    --member=\"serviceAccount:$PROJECT_NUMBER-compute@developer.gserviceaccount.com\" \\\n",
    "    --role=\"roles/storage.objectAdmin\"\n",
    "```"
   ]
  },
  {
   "cell_type": "markdown",
   "metadata": {},
   "source": [
    "#### Use the CLI compiler to compile the pipeline"
   ]
  },
  {
   "cell_type": "code",
   "execution_count": 10,
   "metadata": {},
   "outputs": [
    {
     "name": "stdout",
     "output_type": "stream",
     "text": [
      "env: PIPELINE_ROOT=gs://qwiklabs-asl-03-2de90311f4ec-kfp-artifact-store/pipeline\n",
      "env: PROJECT_ID=qwiklabs-asl-03-2de90311f4ec\n",
      "env: REGION=us-central1\n",
      "env: SERVING_CONTAINER_IMAGE_URI=us-docker.pkg.dev/vertex-ai/prediction/sklearn-cpu.0-20:latest\n",
      "env: TRAINING_CONTAINER_IMAGE_URI=gcr.io/qwiklabs-asl-03-2de90311f4ec/trainer_image_covertype_vertex:latest\n",
      "env: TRAINING_FILE_PATH=gs://qwiklabs-asl-03-2de90311f4ec-kfp-artifact-store/data/training/dataset.csv\n",
      "env: VALIDATION_FILE_PATH=gs://qwiklabs-asl-03-2de90311f4ec-kfp-artifact-store/data/validation/dataset.csv\n",
      "env: BASE_OUTPUT_DIR=gs://qwiklabs-asl-03-2de90311f4ec-kfp-artifact-store/models/20230727060323\n"
     ]
    }
   ],
   "source": [
    "ARTIFACT_STORE = f\"gs://{PROJECT_ID}-kfp-artifact-store\"\n",
    "PIPELINE_ROOT = f\"{ARTIFACT_STORE}/pipeline\"\n",
    "DATA_ROOT = f\"{ARTIFACT_STORE}/data\"\n",
    "\n",
    "TRAINING_FILE_PATH = f\"{DATA_ROOT}/training/dataset.csv\"\n",
    "VALIDATION_FILE_PATH = f\"{DATA_ROOT}/validation/dataset.csv\"\n",
    "\n",
    "TIMESTAMP = datetime.now().strftime(\"%Y%m%d%H%M%S\")\n",
    "BASE_OUTPUT_DIR = f\"{ARTIFACT_STORE}/models/{TIMESTAMP}\"\n",
    "\n",
    "%env PIPELINE_ROOT={PIPELINE_ROOT}\n",
    "%env PROJECT_ID={PROJECT_ID}\n",
    "%env REGION={REGION}\n",
    "%env SERVING_CONTAINER_IMAGE_URI={SERVING_CONTAINER_IMAGE_URI}\n",
    "%env TRAINING_CONTAINER_IMAGE_URI={TRAINING_CONTAINER_IMAGE_URI}\n",
    "%env TRAINING_FILE_PATH={TRAINING_FILE_PATH}\n",
    "%env VALIDATION_FILE_PATH={VALIDATION_FILE_PATH}\n",
    "%env BASE_OUTPUT_DIR={BASE_OUTPUT_DIR}"
   ]
  },
  {
   "cell_type": "markdown",
   "metadata": {},
   "source": [
    "We compile the pipeline from the Python file we generated into a JSON description using the following command:"
   ]
  },
  {
   "cell_type": "code",
   "execution_count": 11,
   "metadata": {},
   "outputs": [],
   "source": [
    "PIPELINE_JSON = \"covertype_kfp_pipeline.json\""
   ]
  },
  {
   "cell_type": "code",
   "execution_count": 12,
   "metadata": {},
   "outputs": [
    {
     "name": "stdout",
     "output_type": "stream",
     "text": [
      "/home/jupyter/.local/lib/python3.7/site-packages/kfp/v2/compiler/compiler.py:1293: FutureWarning: APIs imported from the v1 namespace (e.g. kfp.dsl, kfp.components, etc) will not be supported by the v2 compiler since v2.0.0\n",
      "  category=FutureWarning,\n"
     ]
    }
   ],
   "source": [
    "!dsl-compile-v2 --py pipeline_vertex/pipeline_prebuilt.py --output $PIPELINE_JSON"
   ]
  },
  {
   "cell_type": "markdown",
   "metadata": {},
   "source": [
    "**Note:** You can also use the Python SDK to compile the pipeline:\n",
    "\n",
    "```python\n",
    "from kfp.v2 import compiler\n",
    "\n",
    "compiler.Compiler().compile(\n",
    "    pipeline_func=create_pipeline, \n",
    "    package_path=PIPELINE_JSON,\n",
    ")\n",
    "\n",
    "```"
   ]
  },
  {
   "cell_type": "markdown",
   "metadata": {},
   "source": [
    "The result is the pipeline file. "
   ]
  },
  {
   "cell_type": "code",
   "execution_count": 13,
   "metadata": {},
   "outputs": [
    {
     "name": "stdout",
     "output_type": "stream",
     "text": [
      "{\n",
      "  \"pipelineSpec\": {\n",
      "    \"components\": {\n",
      "      \"comp-bigquery-query-job\": {\n",
      "        \"executorLabel\": \"exec-bigquery-query-job\",\n",
      "        \"inputDefinitions\": {\n",
      "          \"parameters\": {\n",
      "            \"job_configuration_query\": {\n",
      "              \"type\": \"STRING\"\n",
      "            },\n"
     ]
    }
   ],
   "source": [
    "!head {PIPELINE_JSON}"
   ]
  },
  {
   "cell_type": "markdown",
   "metadata": {},
   "source": [
    "### Deploy the pipeline package"
   ]
  },
  {
   "cell_type": "code",
   "execution_count": 14,
   "metadata": {},
   "outputs": [],
   "source": [
    "endpoint = aiplatform.Endpoint(\n",
    "    \"projects/467350269354/locations/us-central1/endpoints/8695179845010718720\"\n",
    ")"
   ]
  },
  {
   "cell_type": "code",
   "execution_count": 15,
   "metadata": {},
   "outputs": [
    {
     "name": "stdout",
     "output_type": "stream",
     "text": [
      "Creating PipelineJob\n",
      "PipelineJob created. Resource name: projects/94255171416/locations/us-central1/pipelineJobs/covertype-kfp-pipeline-full-20230727060348\n",
      "To use this PipelineJob in another session:\n",
      "pipeline_job = aiplatform.PipelineJob.get('projects/94255171416/locations/us-central1/pipelineJobs/covertype-kfp-pipeline-full-20230727060348')\n",
      "View Pipeline Job:\n",
      "https://console.cloud.google.com/vertex-ai/locations/us-central1/pipelines/runs/covertype-kfp-pipeline-full-20230727060348?project=94255171416\n",
      "PipelineJob projects/94255171416/locations/us-central1/pipelineJobs/covertype-kfp-pipeline-full-20230727060348 current state:\n",
      "PipelineState.PIPELINE_STATE_RUNNING\n",
      "PipelineJob projects/94255171416/locations/us-central1/pipelineJobs/covertype-kfp-pipeline-full-20230727060348 current state:\n",
      "PipelineState.PIPELINE_STATE_RUNNING\n",
      "PipelineJob projects/94255171416/locations/us-central1/pipelineJobs/covertype-kfp-pipeline-full-20230727060348 current state:\n",
      "PipelineState.PIPELINE_STATE_RUNNING\n",
      "PipelineJob projects/94255171416/locations/us-central1/pipelineJobs/covertype-kfp-pipeline-full-20230727060348 current state:\n",
      "PipelineState.PIPELINE_STATE_RUNNING\n",
      "PipelineJob projects/94255171416/locations/us-central1/pipelineJobs/covertype-kfp-pipeline-full-20230727060348 current state:\n",
      "PipelineState.PIPELINE_STATE_RUNNING\n",
      "PipelineJob projects/94255171416/locations/us-central1/pipelineJobs/covertype-kfp-pipeline-full-20230727060348 current state:\n",
      "PipelineState.PIPELINE_STATE_RUNNING\n",
      "PipelineJob projects/94255171416/locations/us-central1/pipelineJobs/covertype-kfp-pipeline-full-20230727060348 current state:\n",
      "PipelineState.PIPELINE_STATE_RUNNING\n",
      "PipelineJob projects/94255171416/locations/us-central1/pipelineJobs/covertype-kfp-pipeline-full-20230727060348 current state:\n",
      "PipelineState.PIPELINE_STATE_RUNNING\n",
      "PipelineJob projects/94255171416/locations/us-central1/pipelineJobs/covertype-kfp-pipeline-full-20230727060348 current state:\n",
      "PipelineState.PIPELINE_STATE_RUNNING\n",
      "PipelineJob projects/94255171416/locations/us-central1/pipelineJobs/covertype-kfp-pipeline-full-20230727060348 current state:\n",
      "PipelineState.PIPELINE_STATE_RUNNING\n",
      "PipelineJob run completed. Resource name: projects/94255171416/locations/us-central1/pipelineJobs/covertype-kfp-pipeline-full-20230727060348\n"
     ]
    }
   ],
   "source": [
    "aiplatform.init(project=PROJECT_ID, location=REGION)\n",
    "\n",
    "pipeline = aiplatform.PipelineJob(\n",
    "    display_name=\"covertype_kfp_pipeline\",\n",
    "    template_path=PIPELINE_JSON,\n",
    "    enable_caching=True,\n",
    ")\n",
    "\n",
    "pipeline.run()"
   ]
  },
  {
   "cell_type": "markdown",
   "metadata": {},
   "source": [
    "Copyright 2021 Google LLC\n",
    "\n",
    "Licensed under the Apache License, Version 2.0 (the \"License\");\n",
    "you may not use this file except in compliance with the License.\n",
    "You may obtain a copy of the License at\n",
    "\n",
    "    https://www.apache.org/licenses/LICENSE-2.0\n",
    "\n",
    "Unless required by applicable law or agreed to in writing, software\n",
    "distributed under the License is distributed on an \"AS IS\" BASIS,\n",
    "WITHOUT WARRANTIES OR CONDITIONS OF ANY KIND, either express or implied.\n",
    "See the License for the specific language governing permissions and\n",
    "limitations under the License."
   ]
  }
 ],
 "metadata": {
  "environment": {
   "kernel": "python3",
   "name": "tf2-gpu.2-8.m109",
   "type": "gcloud",
   "uri": "gcr.io/deeplearning-platform-release/tf2-gpu.2-8:m109"
  },
  "kernelspec": {
   "display_name": "Python 3",
   "language": "python",
   "name": "python3"
  },
  "language_info": {
   "codemirror_mode": {
    "name": "ipython",
    "version": 3
   },
   "file_extension": ".py",
   "mimetype": "text/x-python",
   "name": "python",
   "nbconvert_exporter": "python",
   "pygments_lexer": "ipython3",
   "version": "3.7.12"
  }
 },
 "nbformat": 4,
 "nbformat_minor": 4
}
